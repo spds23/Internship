{
 "cells": [
  {
   "cell_type": "code",
   "execution_count": 9,
   "id": "0b52293a",
   "metadata": {},
   "outputs": [],
   "source": [
    "import regex as re"
   ]
  },
  {
   "cell_type": "code",
   "execution_count": 2,
   "id": "e16baa19",
   "metadata": {},
   "outputs": [
    {
     "name": "stdout",
     "output_type": "stream",
     "text": [
      "Python:Exercises::PHP:exercises:\n"
     ]
    }
   ],
   "source": [
    "#1 Write a Python program to replace all occurrences of a space, comma, or dot with a colon.\n",
    "SampleText= 'Python Exercises, PHP exercises.'\n",
    "print(re.sub(\"[ ,.]\",\":\",SampleText))"
   ]
  },
  {
   "cell_type": "code",
   "execution_count": 2,
   "id": "10b78f3e",
   "metadata": {},
   "outputs": [],
   "source": [
    "import pandas as pd"
   ]
  },
  {
   "cell_type": "code",
   "execution_count": 103,
   "id": "a4150092",
   "metadata": {},
   "outputs": [],
   "source": [
    "#2 Create a dataframe using the dictionary below and remove everything (commas (,), !, XXXX, ;, etc.) from the columns except words.\n",
    "Dictionary= {'SUMMARY' : ['hello, world!', 'XXXXX test', '123four, five:; six...']}"
   ]
  },
  {
   "cell_type": "code",
   "execution_count": 7,
   "id": "615e57f8",
   "metadata": {},
   "outputs": [],
   "source": [
    "df=pd.DataFrame(Dictionary)"
   ]
  },
  {
   "cell_type": "code",
   "execution_count": 9,
   "id": "56064ddf",
   "metadata": {},
   "outputs": [],
   "source": [
    "df['SUMMARY']=df['SUMMARY'].str.replace('[^a-zA-Z\\s]','',regex=True)"
   ]
  },
  {
   "cell_type": "code",
   "execution_count": 10,
   "id": "90705642",
   "metadata": {},
   "outputs": [
    {
     "name": "stdout",
     "output_type": "stream",
     "text": [
      "         SUMMARY\n",
      "0    hello world\n",
      "1     XXXXX test\n",
      "2  four five six\n"
     ]
    }
   ],
   "source": [
    "print(df)"
   ]
  },
  {
   "cell_type": "code",
   "execution_count": 12,
   "id": "baa050f9",
   "metadata": {},
   "outputs": [
    {
     "name": "stdout",
     "output_type": "stream",
     "text": [
      "['Create', 'function', 'python', 'find', 'words', 'that', 'least', 'characters', 'long', 'string']\n"
     ]
    }
   ],
   "source": [
    "#3 Create a function in python to find all words that are at least 4 characters long in a string. The use of the re.compile() method is mandatory.\n",
    "TargetString='Create a function in python to find all words that are at least 4 characters long in a string.'\n",
    "stringpattern= r\"\\b\\w{4,}\\b\"\n",
    "regexpattern= re.compile(stringpattern)\n",
    "result=regexpattern.findall(TargetString)\n",
    "print(result)"
   ]
  },
  {
   "cell_type": "code",
   "execution_count": 104,
   "id": "c413bc40",
   "metadata": {},
   "outputs": [
    {
     "name": "stdout",
     "output_type": "stream",
     "text": [
      "['find', 'all', 'three', 'four', 'and', 'five', 'words']\n"
     ]
    }
   ],
   "source": [
    "#4\n",
    "TargetString= 'Create a function in python to find all three, four, and five character words in a string.'\n",
    "stringpattern= r\"\\b\\w{3,5}\\b\"\n",
    "regexpattern= re.compile(stringpattern)\n",
    "result=regexpattern.findall(TargetString)\n",
    "print(result)"
   ]
  },
  {
   "cell_type": "code",
   "execution_count": 45,
   "id": "009897b1",
   "metadata": {},
   "outputs": [],
   "source": [
    "#5 Create a function in Python to remove the parenthesis in a list of strings. The use of the re.compile() method is mandatory.\n",
    "SampleText= [\"example (.com)\", \"hr@fliprobo (.com)\", \"github (.com)\", \"Hello (Data Science World)\", \"Data (Scientist)\"]\n",
    "def myfunc(strings):\n",
    "    stringpattern=r\"[()]\"\n",
    "    regexpattern= re.compile(stringpattern)\n",
    "    for text in strings:\n",
    "        newpattern=re.sub(regexpattern,\"\",text)\n",
    "        return newpattern"
   ]
  },
  {
   "cell_type": "code",
   "execution_count": 43,
   "id": "3a115da4",
   "metadata": {},
   "outputs": [
    {
     "data": {
      "text/plain": [
       "'example .com'"
      ]
     },
     "execution_count": 43,
     "metadata": {},
     "output_type": "execute_result"
    }
   ],
   "source": [
    "myfunc(SampleText)"
   ]
  },
  {
   "cell_type": "code",
   "execution_count": 41,
   "id": "4e9bd15d",
   "metadata": {},
   "outputs": [
    {
     "name": "stdout",
     "output_type": "stream",
     "text": [
      "example .com\n"
     ]
    }
   ],
   "source": [
    "result= myfunc(SampleText)\n",
    "print (result)"
   ]
  },
  {
   "cell_type": "code",
   "execution_count": null,
   "id": "099a90fa",
   "metadata": {},
   "outputs": [],
   "source": [
    "#6 Write a python program to remove the parenthesis area from the text stored in the text file using Regular Expression."
   ]
  },
  {
   "cell_type": "code",
   "execution_count": 173,
   "id": "bc324b98",
   "metadata": {},
   "outputs": [
    {
     "name": "stdout",
     "output_type": "stream",
     "text": [
      "Sample Text: [\"example \", \"hr@fliprobo \", \"github \", \"Hello \", \"Data \"]\n",
      "\n",
      "\n"
     ]
    }
   ],
   "source": [
    "file= open(\"doc6.txt\",'r')\n",
    "text=file.read()\n",
    "pattern=r'\\([^()]*\\)'\n",
    "result=re.sub(pattern,\"\",text)\n",
    "print(result)"
   ]
  },
  {
   "cell_type": "code",
   "execution_count": 47,
   "id": "3bb19829",
   "metadata": {},
   "outputs": [
    {
     "name": "stdout",
     "output_type": "stream",
     "text": [
      "['Importance', 'Of', 'Regular', 'Expressions', 'In', 'Python']\n"
     ]
    }
   ],
   "source": [
    "#7 Write a regular expression in Python to split a string into uppercase letters.\n",
    "Sampletext= \"ImportanceOfRegularExpressionsInPython\"\n",
    "print(re.findall(\"[A-Z][^A-Z]*\",Sampletext))"
   ]
  },
  {
   "cell_type": "code",
   "execution_count": 78,
   "id": "e4718dff",
   "metadata": {},
   "outputs": [],
   "source": [
    "#8 Create a function in python to insert spaces between words starting with numbers.\n",
    "SampleText= \"RegularExpression1IsAn2ImportantTopic3InPython\"\n",
    "def space(Text):\n",
    "    pattern= r'(\\d+)([A-Za-z]+)'\n",
    "    newpattern=re.sub(pattern,r' \\1\\2',Text)\n",
    "    return newpattern"
   ]
  },
  {
   "cell_type": "code",
   "execution_count": 79,
   "id": "00e0e2e2",
   "metadata": {},
   "outputs": [
    {
     "data": {
      "text/plain": [
       "'RegularExpression 1IsAn 2ImportantTopic 3InPython'"
      ]
     },
     "execution_count": 79,
     "metadata": {},
     "output_type": "execute_result"
    }
   ],
   "source": [
    "space(SampleText)"
   ]
  },
  {
   "cell_type": "code",
   "execution_count": 76,
   "id": "78019570",
   "metadata": {},
   "outputs": [],
   "source": [
    "#9 Create a function in python to insert spaces between words starting with capital letters or with numbers.\n",
    "SampleText= \"RegularExpression1IsAn2ImportantTopic3InPython\"\n",
    "def space1(Text):\n",
    "    pattern= r'(\\d+)([A-Za-z]+)'\n",
    "    newpattern=re.sub(pattern,r' \\1 \\2 ',Text)\n",
    "    return newpattern"
   ]
  },
  {
   "cell_type": "code",
   "execution_count": 77,
   "id": "78268117",
   "metadata": {},
   "outputs": [
    {
     "data": {
      "text/plain": [
       "'RegularExpression 1 IsAn  2 ImportantTopic  3 InPython '"
      ]
     },
     "execution_count": 77,
     "metadata": {},
     "output_type": "execute_result"
    }
   ],
   "source": [
    "space1(SampleText)"
   ]
  },
  {
   "cell_type": "code",
   "execution_count": 177,
   "id": "86f618ab",
   "metadata": {},
   "outputs": [],
   "source": [
    "#10 Use the github link below to read the data and create a dataframe. After creating the dataframe extract the first 6 letters of each country and store in the dataframe under a new column called first_five_letters.\n",
    "Github Link-  https://raw.githubusercontent.com/dsrscientist/DSData/master/happiness_score_dataset.csv"
   ]
  },
  {
   "cell_type": "code",
   "execution_count": 178,
   "id": "7455a247",
   "metadata": {},
   "outputs": [],
   "source": [
    "df = pd.read_csv(\"https://raw.githubusercontent.com/dsrscientist/DSData/master/happiness_score_dataset.csv\")"
   ]
  },
  {
   "cell_type": "code",
   "execution_count": 179,
   "id": "423d4c17",
   "metadata": {},
   "outputs": [
    {
     "data": {
      "text/html": [
       "<div>\n",
       "<style scoped>\n",
       "    .dataframe tbody tr th:only-of-type {\n",
       "        vertical-align: middle;\n",
       "    }\n",
       "\n",
       "    .dataframe tbody tr th {\n",
       "        vertical-align: top;\n",
       "    }\n",
       "\n",
       "    .dataframe thead th {\n",
       "        text-align: right;\n",
       "    }\n",
       "</style>\n",
       "<table border=\"1\" class=\"dataframe\">\n",
       "  <thead>\n",
       "    <tr style=\"text-align: right;\">\n",
       "      <th></th>\n",
       "      <th>Country</th>\n",
       "      <th>Region</th>\n",
       "      <th>Happiness Rank</th>\n",
       "      <th>Happiness Score</th>\n",
       "      <th>Standard Error</th>\n",
       "      <th>Economy (GDP per Capita)</th>\n",
       "      <th>Family</th>\n",
       "      <th>Health (Life Expectancy)</th>\n",
       "      <th>Freedom</th>\n",
       "      <th>Trust (Government Corruption)</th>\n",
       "      <th>Generosity</th>\n",
       "      <th>Dystopia Residual</th>\n",
       "    </tr>\n",
       "  </thead>\n",
       "  <tbody>\n",
       "    <tr>\n",
       "      <th>0</th>\n",
       "      <td>Switzerland</td>\n",
       "      <td>Western Europe</td>\n",
       "      <td>1</td>\n",
       "      <td>7.587</td>\n",
       "      <td>0.03411</td>\n",
       "      <td>1.39651</td>\n",
       "      <td>1.34951</td>\n",
       "      <td>0.94143</td>\n",
       "      <td>0.66557</td>\n",
       "      <td>0.41978</td>\n",
       "      <td>0.29678</td>\n",
       "      <td>2.51738</td>\n",
       "    </tr>\n",
       "    <tr>\n",
       "      <th>1</th>\n",
       "      <td>Iceland</td>\n",
       "      <td>Western Europe</td>\n",
       "      <td>2</td>\n",
       "      <td>7.561</td>\n",
       "      <td>0.04884</td>\n",
       "      <td>1.30232</td>\n",
       "      <td>1.40223</td>\n",
       "      <td>0.94784</td>\n",
       "      <td>0.62877</td>\n",
       "      <td>0.14145</td>\n",
       "      <td>0.43630</td>\n",
       "      <td>2.70201</td>\n",
       "    </tr>\n",
       "    <tr>\n",
       "      <th>2</th>\n",
       "      <td>Denmark</td>\n",
       "      <td>Western Europe</td>\n",
       "      <td>3</td>\n",
       "      <td>7.527</td>\n",
       "      <td>0.03328</td>\n",
       "      <td>1.32548</td>\n",
       "      <td>1.36058</td>\n",
       "      <td>0.87464</td>\n",
       "      <td>0.64938</td>\n",
       "      <td>0.48357</td>\n",
       "      <td>0.34139</td>\n",
       "      <td>2.49204</td>\n",
       "    </tr>\n",
       "    <tr>\n",
       "      <th>3</th>\n",
       "      <td>Norway</td>\n",
       "      <td>Western Europe</td>\n",
       "      <td>4</td>\n",
       "      <td>7.522</td>\n",
       "      <td>0.03880</td>\n",
       "      <td>1.45900</td>\n",
       "      <td>1.33095</td>\n",
       "      <td>0.88521</td>\n",
       "      <td>0.66973</td>\n",
       "      <td>0.36503</td>\n",
       "      <td>0.34699</td>\n",
       "      <td>2.46531</td>\n",
       "    </tr>\n",
       "    <tr>\n",
       "      <th>4</th>\n",
       "      <td>Canada</td>\n",
       "      <td>North America</td>\n",
       "      <td>5</td>\n",
       "      <td>7.427</td>\n",
       "      <td>0.03553</td>\n",
       "      <td>1.32629</td>\n",
       "      <td>1.32261</td>\n",
       "      <td>0.90563</td>\n",
       "      <td>0.63297</td>\n",
       "      <td>0.32957</td>\n",
       "      <td>0.45811</td>\n",
       "      <td>2.45176</td>\n",
       "    </tr>\n",
       "  </tbody>\n",
       "</table>\n",
       "</div>"
      ],
      "text/plain": [
       "       Country          Region  Happiness Rank  Happiness Score  \\\n",
       "0  Switzerland  Western Europe               1            7.587   \n",
       "1      Iceland  Western Europe               2            7.561   \n",
       "2      Denmark  Western Europe               3            7.527   \n",
       "3       Norway  Western Europe               4            7.522   \n",
       "4       Canada   North America               5            7.427   \n",
       "\n",
       "   Standard Error  Economy (GDP per Capita)   Family  \\\n",
       "0         0.03411                   1.39651  1.34951   \n",
       "1         0.04884                   1.30232  1.40223   \n",
       "2         0.03328                   1.32548  1.36058   \n",
       "3         0.03880                   1.45900  1.33095   \n",
       "4         0.03553                   1.32629  1.32261   \n",
       "\n",
       "   Health (Life Expectancy)  Freedom  Trust (Government Corruption)  \\\n",
       "0                   0.94143  0.66557                        0.41978   \n",
       "1                   0.94784  0.62877                        0.14145   \n",
       "2                   0.87464  0.64938                        0.48357   \n",
       "3                   0.88521  0.66973                        0.36503   \n",
       "4                   0.90563  0.63297                        0.32957   \n",
       "\n",
       "   Generosity  Dystopia Residual  \n",
       "0     0.29678            2.51738  \n",
       "1     0.43630            2.70201  \n",
       "2     0.34139            2.49204  \n",
       "3     0.34699            2.46531  \n",
       "4     0.45811            2.45176  "
      ]
     },
     "execution_count": 179,
     "metadata": {},
     "output_type": "execute_result"
    }
   ],
   "source": [
    "df.head()"
   ]
  },
  {
   "cell_type": "code",
   "execution_count": 180,
   "id": "7a186c79",
   "metadata": {},
   "outputs": [
    {
     "name": "stdout",
     "output_type": "stream",
     "text": [
      "         Country                           Region  Happiness Rank  \\\n",
      "0    Switzerland                   Western Europe               1   \n",
      "1        Iceland                   Western Europe               2   \n",
      "2        Denmark                   Western Europe               3   \n",
      "3         Norway                   Western Europe               4   \n",
      "4         Canada                    North America               5   \n",
      "..           ...                              ...             ...   \n",
      "153       Rwanda               Sub-Saharan Africa             154   \n",
      "154        Benin               Sub-Saharan Africa             155   \n",
      "155        Syria  Middle East and Northern Africa             156   \n",
      "156      Burundi               Sub-Saharan Africa             157   \n",
      "157         Togo               Sub-Saharan Africa             158   \n",
      "\n",
      "     Happiness Score  Standard Error  Economy (GDP per Capita)   Family  \\\n",
      "0              7.587         0.03411                   1.39651  1.34951   \n",
      "1              7.561         0.04884                   1.30232  1.40223   \n",
      "2              7.527         0.03328                   1.32548  1.36058   \n",
      "3              7.522         0.03880                   1.45900  1.33095   \n",
      "4              7.427         0.03553                   1.32629  1.32261   \n",
      "..               ...             ...                       ...      ...   \n",
      "153            3.465         0.03464                   0.22208  0.77370   \n",
      "154            3.340         0.03656                   0.28665  0.35386   \n",
      "155            3.006         0.05015                   0.66320  0.47489   \n",
      "156            2.905         0.08658                   0.01530  0.41587   \n",
      "157            2.839         0.06727                   0.20868  0.13995   \n",
      "\n",
      "     Health (Life Expectancy)  Freedom  Trust (Government Corruption)  \\\n",
      "0                     0.94143  0.66557                        0.41978   \n",
      "1                     0.94784  0.62877                        0.14145   \n",
      "2                     0.87464  0.64938                        0.48357   \n",
      "3                     0.88521  0.66973                        0.36503   \n",
      "4                     0.90563  0.63297                        0.32957   \n",
      "..                        ...      ...                            ...   \n",
      "153                   0.42864  0.59201                        0.55191   \n",
      "154                   0.31910  0.48450                        0.08010   \n",
      "155                   0.72193  0.15684                        0.18906   \n",
      "156                   0.22396  0.11850                        0.10062   \n",
      "157                   0.28443  0.36453                        0.10731   \n",
      "\n",
      "     Generosity  Dystopia Residual first_five_letters  \n",
      "0       0.29678            2.51738             Switze  \n",
      "1       0.43630            2.70201             Icelan  \n",
      "2       0.34139            2.49204             Denmar  \n",
      "3       0.34699            2.46531             Norway  \n",
      "4       0.45811            2.45176             Canada  \n",
      "..          ...                ...                ...  \n",
      "153     0.22628            0.67042             Rwanda  \n",
      "154     0.18260            1.63328                NaN  \n",
      "155     0.47179            0.32858                NaN  \n",
      "156     0.19727            1.83302             Burund  \n",
      "157     0.16681            1.56726                NaN  \n",
      "\n",
      "[158 rows x 13 columns]\n"
     ]
    }
   ],
   "source": [
    "df[\"first_five_letters\"]=df[\"Country\"].str.extract(r\"(\\w{6})\")\n",
    "print(df)"
   ]
  },
  {
   "cell_type": "code",
   "execution_count": 81,
   "id": "eec10c56",
   "metadata": {},
   "outputs": [],
   "source": [
    "#11 Write a Python program to match a string that contains only upper and lowercase letters, numbers, and underscores.\n",
    "def UCLCNU(text):\n",
    "    pattern=r'^[A-Za-z0-9_]+$'\n",
    "    if re.match(pattern,text):\n",
    "        print(\"correct\")\n",
    "    else:\n",
    "        print(\"error\")"
   ]
  },
  {
   "cell_type": "code",
   "execution_count": 84,
   "id": "6397d487",
   "metadata": {},
   "outputs": [
    {
     "name": "stdout",
     "output_type": "stream",
     "text": [
      "error\n"
     ]
    }
   ],
   "source": [
    "UCLCNU(\"The World_is 100t imes more Beautiful\")"
   ]
  },
  {
   "cell_type": "code",
   "execution_count": 85,
   "id": "2dbbf230",
   "metadata": {},
   "outputs": [
    {
     "name": "stdout",
     "output_type": "stream",
     "text": [
      "correct\n"
     ]
    }
   ],
   "source": [
    "UCLCNU(\"TheWorld_is100timesmoreBeautiful\")"
   ]
  },
  {
   "cell_type": "code",
   "execution_count": 86,
   "id": "57b9e16d",
   "metadata": {},
   "outputs": [],
   "source": [
    "#12 Write a Python program where a string will start with a specific number. \n",
    "def prog(string,number):\n",
    "    if re.match(number,string):\n",
    "        print(\"correct\")\n",
    "    else:\n",
    "        print(\"error\")"
   ]
  },
  {
   "cell_type": "code",
   "execution_count": 93,
   "id": "f3512804",
   "metadata": {},
   "outputs": [
    {
     "name": "stdout",
     "output_type": "stream",
     "text": [
      "error\n"
     ]
    }
   ],
   "source": [
    "prog('abc','123')"
   ]
  },
  {
   "cell_type": "code",
   "execution_count": 100,
   "id": "a935ccef",
   "metadata": {},
   "outputs": [],
   "source": [
    "#13 Write a Python program to remove leading zeros from an IP address\n",
    "def IP(xyz):\n",
    "    result= re.sub('\\.[0]*','.',xyz)\n",
    "    print(result)"
   ]
  },
  {
   "cell_type": "code",
   "execution_count": 102,
   "id": "550a9112",
   "metadata": {},
   "outputs": [
    {
     "name": "stdout",
     "output_type": "stream",
     "text": [
      "111.34.88.112\n"
     ]
    }
   ],
   "source": [
    "IP(\"111.034.088.112\")"
   ]
  },
  {
   "cell_type": "code",
   "execution_count": 3,
   "id": "0faa4f7d",
   "metadata": {},
   "outputs": [],
   "source": [
    "#14 Write a regular expression in python to match a date string in the form of Month name followed by day number and year stored in a text file.\n",
    "text= 'On August 15th 1947 that India was declared independent from British colonialism, and the reins of control were handed over to the leaders of the Country.'"
   ]
  },
  {
   "cell_type": "code",
   "execution_count": 169,
   "id": "80dec66e",
   "metadata": {},
   "outputs": [
    {
     "name": "stdout",
     "output_type": "stream",
     "text": [
      "August 15th 1947\n"
     ]
    }
   ],
   "source": [
    "file= open(\"doc.txt\",'r')\n",
    "text=file.read()\n",
    "pattern= r'\\b([A-Za-z]+ \\d{1,2}(?:st|nd|rd|th)? \\d{4})\\b'\n",
    "datestring= re.findall(pattern,text)\n",
    "datestring=datestring[0]\n",
    "print(datestring)"
   ]
  },
  {
   "cell_type": "code",
   "execution_count": 42,
   "id": "78fe3292",
   "metadata": {},
   "outputs": [
    {
     "name": "stdout",
     "output_type": "stream",
     "text": [
      "fox is present\n",
      "dog is present\n",
      "horse is not present\n"
     ]
    }
   ],
   "source": [
    "#15 Write a Python program to search some literals strings in a string. \n",
    "text='The quick brown fox jumps over the lazy dog.'\n",
    "pattern=['fox', 'dog', 'horse']\n",
    "for item in pattern:\n",
    "    if  re.search(item,text):\n",
    "        print('%s is present'%item)\n",
    "    else:\n",
    "        print('%s is not present'%item)"
   ]
  },
  {
   "cell_type": "code",
   "execution_count": 44,
   "id": "b08ce3fb",
   "metadata": {},
   "outputs": [],
   "source": [
    "#16 - Write a Python program to search a literals string in a string and also find the location within the original string where the pattern occurs\n"
   ]
  },
  {
   "cell_type": "code",
   "execution_count": 61,
   "id": "2bf532bf",
   "metadata": {},
   "outputs": [
    {
     "name": "stdout",
     "output_type": "stream",
     "text": [
      "searched \"fox\" in \"The quick brown fox jumps over the lazy dog.\" from 16 to 19 \n"
     ]
    }
   ],
   "source": [
    "text='The quick brown fox jumps over the lazy dog.'\n",
    "pattern='fox'\n",
    "match= re.search(pattern,text)\n",
    "s= match.start()\n",
    "e= match.end()\n",
    "print('searched \"%s\" in \"%s\" from %d to %d ' % (match.re.pattern, match.string, s, e))"
   ]
  },
  {
   "cell_type": "code",
   "execution_count": null,
   "id": "12ef95a4",
   "metadata": {},
   "outputs": [],
   "source": [
    "#17 Write a Python program to find the substrings within a string."
   ]
  },
  {
   "cell_type": "code",
   "execution_count": 66,
   "id": "b42f88ed",
   "metadata": {},
   "outputs": [
    {
     "name": "stdout",
     "output_type": "stream",
     "text": [
      "\"exercises\"\n",
      "\"exercises\"\n",
      "\"exercises\"\n"
     ]
    }
   ],
   "source": [
    "text='Python exercises, PHP exercises, C# exercises'\n",
    "pattern='exercises'\n",
    "match= re.findall(pattern,text)\n",
    "for item in match:\n",
    "    print('\"%s\"'%item)"
   ]
  },
  {
   "cell_type": "code",
   "execution_count": 67,
   "id": "0cf1b85a",
   "metadata": {},
   "outputs": [],
   "source": [
    "#18 Write a Python program to find the occurrence and position of the substrings within a string."
   ]
  },
  {
   "cell_type": "code",
   "execution_count": 84,
   "id": "5d9ada82",
   "metadata": {},
   "outputs": [
    {
     "name": "stdout",
     "output_type": "stream",
     "text": [
      "searched \"exercises\" at 7:16 \n",
      "searched \"exercises\" at 22:31 \n",
      "searched \"exercises\" at 36:45 \n"
     ]
    }
   ],
   "source": [
    "text='Python exercises, PHP exercises, C# exercises'\n",
    "pattern='exercises'\n",
    "match= re.finditer(pattern,text)\n",
    "for item in match:\n",
    "    s= item.start()\n",
    "    e= item.end()\n",
    "    print('searched \"%s\" at %d:%d ' % (text[s:e], s, e))\n",
    "    "
   ]
  },
  {
   "cell_type": "code",
   "execution_count": 87,
   "id": "b59ba8ef",
   "metadata": {},
   "outputs": [],
   "source": [
    "#19 Write a Python program to convert a date of yyyy-mm-dd format to dd-mm-yyyy format."
   ]
  },
  {
   "cell_type": "code",
   "execution_count": 92,
   "id": "686ca2a5",
   "metadata": {},
   "outputs": [
    {
     "name": "stdout",
     "output_type": "stream",
     "text": [
      "03-11-2023\n"
     ]
    }
   ],
   "source": [
    "date = '2023-11-03'\n",
    "result = re.split('-', date)\n",
    "formated_date= '-'.join(result[::-1])\n",
    "print(formated_date)"
   ]
  },
  {
   "cell_type": "code",
   "execution_count": 93,
   "id": "bda59842",
   "metadata": {},
   "outputs": [],
   "source": [
    "#20 Create a function in python to find all decimal numbers with a precision of 1 or 2 in a string. The use of the re.compile() method is mandatory."
   ]
  },
  {
   "cell_type": "code",
   "execution_count": 98,
   "id": "eea7f999",
   "metadata": {},
   "outputs": [],
   "source": [
    "def Decimalnumber(text):\n",
    "    pattern= re.compile(r'\\d+\\.\\d{1,2}')\n",
    "    result= re.findall(pattern,text)\n",
    "    return result"
   ]
  },
  {
   "cell_type": "code",
   "execution_count": 99,
   "id": "b570b8ff",
   "metadata": {},
   "outputs": [
    {
     "data": {
      "text/plain": [
       "['01.12', '0132.12', '2.31', '145.8', '3.01', '27.25', '0.25']"
      ]
     },
     "execution_count": 99,
     "metadata": {},
     "output_type": "execute_result"
    }
   ],
   "source": [
    "Decimalnumber(\"01.12 0132.123 2.31875 145.8 3.01 27.25 0.25\")"
   ]
  },
  {
   "cell_type": "code",
   "execution_count": 100,
   "id": "51d32cc6",
   "metadata": {},
   "outputs": [],
   "source": [
    "# 21 Write a Python program to separate and print the numbers and their position of a given string."
   ]
  },
  {
   "cell_type": "code",
   "execution_count": 113,
   "id": "266b2e61",
   "metadata": {},
   "outputs": [
    {
     "name": "stdout",
     "output_type": "stream",
     "text": [
      "\n",
      "947\n",
      "896\n",
      "926\n",
      "524\n",
      "734\n",
      "950\n",
      "642\n"
     ]
    }
   ],
   "source": [
    "text= 'My marks in each semester are 947, 896, 926, 524, 734, 950, 642'\n",
    "result= re.split(r'\\D+',text)\n",
    "for item in result:\n",
    "    print(item)"
   ]
  },
  {
   "cell_type": "code",
   "execution_count": 114,
   "id": "50fb5599",
   "metadata": {},
   "outputs": [],
   "source": [
    "# 22 Write a regular expression in python program to extract maximum/largest numeric value from a string."
   ]
  },
  {
   "cell_type": "code",
   "execution_count": 117,
   "id": "373e4113",
   "metadata": {},
   "outputs": [
    {
     "name": "stdout",
     "output_type": "stream",
     "text": [
      "maxvalue: 950\n"
     ]
    }
   ],
   "source": [
    "text= 'My marks in each semester are 947, 896, 926, 524, 734, 950, 642'\n",
    "result= re.split(r'\\D+',text)\n",
    "print(\"maxvalue:\",max(result))"
   ]
  },
  {
   "cell_type": "code",
   "execution_count": 118,
   "id": "145faf84",
   "metadata": {},
   "outputs": [],
   "source": [
    "#23 Create a function in python to insert spaces between words starting with capital letters."
   ]
  },
  {
   "cell_type": "code",
   "execution_count": 124,
   "id": "4018a06f",
   "metadata": {},
   "outputs": [],
   "source": [
    "def spaceCL(Text):\n",
    "    pattern= r'(\\w)([A-Z])'\n",
    "    newpattern=re.sub(pattern,r'\\1 \\2',Text)\n",
    "    return newpattern"
   ]
  },
  {
   "cell_type": "code",
   "execution_count": 125,
   "id": "3e7a3b1f",
   "metadata": {},
   "outputs": [
    {
     "data": {
      "text/plain": [
       "'Regular Expression Is An Important Topic In Python'"
      ]
     },
     "execution_count": 125,
     "metadata": {},
     "output_type": "execute_result"
    }
   ],
   "source": [
    "spaceCL('RegularExpressionIsAnImportantTopicInPython')"
   ]
  },
  {
   "cell_type": "code",
   "execution_count": 126,
   "id": "6b210d82",
   "metadata": {},
   "outputs": [],
   "source": [
    "#24 Python regex to find sequences of one upper case letter followed by lower case letters"
   ]
  },
  {
   "cell_type": "code",
   "execution_count": 127,
   "id": "2c470d42",
   "metadata": {},
   "outputs": [
    {
     "name": "stdout",
     "output_type": "stream",
     "text": [
      "['Regular', 'Expression', 'Is', 'An', 'Important', 'Topic', 'In', 'Python']\n"
     ]
    }
   ],
   "source": [
    "text='Regular Expression Is An Important Topic In Python'\n",
    "pattern= r'[A-Z][a-z]+'\n",
    "result=re.findall(pattern,text)\n",
    "print(result)"
   ]
  },
  {
   "cell_type": "code",
   "execution_count": 128,
   "id": "ca3b7dd4",
   "metadata": {},
   "outputs": [],
   "source": [
    "#25 Write a Python program to remove continuous duplicate words from Sentence using Regular Expression."
   ]
  },
  {
   "cell_type": "code",
   "execution_count": 132,
   "id": "648a168e",
   "metadata": {},
   "outputs": [],
   "source": [
    "def removeduplicates(text):\n",
    "    pattern= r'\\b(\\w+)(\\s+\\1\\b)+'\n",
    "    result= re.sub(pattern,r'\\1',text)\n",
    "    return result"
   ]
  },
  {
   "cell_type": "code",
   "execution_count": 133,
   "id": "27e5d9b9",
   "metadata": {},
   "outputs": [
    {
     "data": {
      "text/plain": [
       "'Hello hello world'"
      ]
     },
     "execution_count": 133,
     "metadata": {},
     "output_type": "execute_result"
    }
   ],
   "source": [
    "removeduplicates(\"Hello hello world world\")"
   ]
  },
  {
   "cell_type": "code",
   "execution_count": 134,
   "id": "99b3e9e3",
   "metadata": {},
   "outputs": [],
   "source": [
    "# 26 Write a python program using RegEx to accept string ending with alphanumeric character."
   ]
  },
  {
   "cell_type": "code",
   "execution_count": 137,
   "id": "b6f113a5",
   "metadata": {},
   "outputs": [],
   "source": [
    "def alphanumeric(text):\n",
    "    pattern= r'[A-Za-z0-9]$'\n",
    "    result= re.search(pattern,text)\n",
    "    if result:\n",
    "        print(\"correct\")\n",
    "    else:\n",
    "        print(\"error\")"
   ]
  },
  {
   "cell_type": "code",
   "execution_count": 138,
   "id": "de05b917",
   "metadata": {},
   "outputs": [
    {
     "name": "stdout",
     "output_type": "stream",
     "text": [
      "correct\n"
     ]
    }
   ],
   "source": [
    "alphanumeric('Hello123')"
   ]
  },
  {
   "cell_type": "code",
   "execution_count": 139,
   "id": "7a547f7e",
   "metadata": {},
   "outputs": [
    {
     "name": "stdout",
     "output_type": "stream",
     "text": [
      "error\n"
     ]
    }
   ],
   "source": [
    "alphanumeric('Hello123@')"
   ]
  },
  {
   "cell_type": "code",
   "execution_count": 140,
   "id": "e315cf0b",
   "metadata": {},
   "outputs": [],
   "source": [
    "#27 Write a python program using RegEx to extract the hashtags."
   ]
  },
  {
   "cell_type": "code",
   "execution_count": 147,
   "id": "de73a072",
   "metadata": {},
   "outputs": [],
   "source": [
    "Text='RT @kapil_kausik: #Doltiwal I mean #xyzabc is \"hurt\" by #Demonetization as the same has rendered USELESS <ed><U+00A0><U+00BD><ed><U+00B1><U+0089> \"acquired funds\" No wo'\n",
    "def hashtags(Text):\n",
    "    pattern=r'#\\w+'\n",
    "    result= re.findall(pattern,Text)\n",
    "    return result"
   ]
  },
  {
   "cell_type": "code",
   "execution_count": 148,
   "id": "ec0578c4",
   "metadata": {},
   "outputs": [
    {
     "data": {
      "text/plain": [
       "['#Doltiwal', '#xyzabc', '#Demonetization']"
      ]
     },
     "execution_count": 148,
     "metadata": {},
     "output_type": "execute_result"
    }
   ],
   "source": [
    "hashtags('RT @kapil_kausik: #Doltiwal I mean #xyzabc is \"hurt\" by #Demonetization as the same has rendered USELESS <ed><U+00A0><U+00BD><ed><U+00B1><U+0089> \"acquired funds\" No wo')"
   ]
  },
  {
   "cell_type": "code",
   "execution_count": 149,
   "id": "10204c5c",
   "metadata": {},
   "outputs": [],
   "source": [
    "#28 Write a python program using RegEx to remove <U+..> like symbols"
   ]
  },
  {
   "cell_type": "code",
   "execution_count": 156,
   "id": "4a14b405",
   "metadata": {},
   "outputs": [],
   "source": [
    "def removesymbols(text):\n",
    "    pattern=r'<U\\+\\w+>'\n",
    "    result= re.sub(pattern,\"\",text)\n",
    "    return result"
   ]
  },
  {
   "cell_type": "code",
   "execution_count": 157,
   "id": "ef2e0d31",
   "metadata": {},
   "outputs": [
    {
     "data": {
      "text/plain": [
       "'@Jags123456 Bharat band on 28??<ed><ed>Those who  are protesting #demonetization  are all different party leaders'"
      ]
     },
     "execution_count": 157,
     "metadata": {},
     "output_type": "execute_result"
    }
   ],
   "source": [
    "removesymbols(\"@Jags123456 Bharat band on 28??<ed><U+00A0><U+00BD><ed><U+00B8><U+0082>Those who  are protesting #demonetization  are all different party leaders\")"
   ]
  },
  {
   "cell_type": "code",
   "execution_count": 158,
   "id": "9021d806",
   "metadata": {},
   "outputs": [],
   "source": [
    "# 29 Write a python program to extract dates from the text stored in the text file."
   ]
  },
  {
   "cell_type": "code",
   "execution_count": 166,
   "id": "dfb3db0a",
   "metadata": {},
   "outputs": [
    {
     "name": "stdout",
     "output_type": "stream",
     "text": [
      "['12-09-1992', '15-12-1999']\n"
     ]
    }
   ],
   "source": [
    "file= open(\"document.txt\",'r')\n",
    "text=file.read()\n",
    "pattern=r'\\d{2}-\\d{2}-\\d{4}'\n",
    "result=re.findall(pattern,text)\n",
    "print(result)"
   ]
  },
  {
   "cell_type": "code",
   "execution_count": 170,
   "id": "36bc8e06",
   "metadata": {},
   "outputs": [],
   "source": [
    "# 30 Create a function in python to remove all words from a string of length between 2 and 4."
   ]
  },
  {
   "cell_type": "code",
   "execution_count": 171,
   "id": "aa052f8f",
   "metadata": {},
   "outputs": [],
   "source": [
    "SampleText= \"The following example creates an ArrayList with a capacity of 50 elements. 4 elements are then added to the ArrayList and the ArrayList is trimmed accordingly.\"\n",
    "def removewordslen2and4(text):\n",
    "    pattern=re.compile(r'\\b\\w{2,4}\\b')\n",
    "    result=re.sub(pattern,\"\",text)\n",
    "    return result"
   ]
  },
  {
   "cell_type": "code",
   "execution_count": 172,
   "id": "10c7d7e7",
   "metadata": {},
   "outputs": [
    {
     "data": {
      "text/plain": [
       "' following example creates  ArrayList  a capacity   elements. 4 elements   added   ArrayList   ArrayList  trimmed accordingly.'"
      ]
     },
     "execution_count": 172,
     "metadata": {},
     "output_type": "execute_result"
    }
   ],
   "source": [
    "removewordslen2and4(\"The following example creates an ArrayList with a capacity of 50 elements. 4 elements are then added to the ArrayList and the ArrayList is trimmed accordingly.\")"
   ]
  },
  {
   "cell_type": "code",
   "execution_count": null,
   "id": "ffe01742",
   "metadata": {},
   "outputs": [],
   "source": []
  }
 ],
 "metadata": {
  "kernelspec": {
   "display_name": "Python 3 (ipykernel)",
   "language": "python",
   "name": "python3"
  },
  "language_info": {
   "codemirror_mode": {
    "name": "ipython",
    "version": 3
   },
   "file_extension": ".py",
   "mimetype": "text/x-python",
   "name": "python",
   "nbconvert_exporter": "python",
   "pygments_lexer": "ipython3",
   "version": "3.10.9"
  }
 },
 "nbformat": 4,
 "nbformat_minor": 5
}
